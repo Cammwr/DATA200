{
  "nbformat": 4,
  "nbformat_minor": 0,
  "metadata": {
    "colab": {
      "provenance": [],
      "authorship_tag": "ABX9TyM2URq08rQ/w2DKgVd75KYf",
      "include_colab_link": true
    },
    "kernelspec": {
      "name": "python3",
      "display_name": "Python 3"
    },
    "language_info": {
      "name": "python"
    }
  },
  "cells": [
    {
      "cell_type": "markdown",
      "metadata": {
        "id": "view-in-github",
        "colab_type": "text"
      },
      "source": [
        "<a href=\"https://colab.research.google.com/github/Cammwr/DATA200/blob/main/HW2_Rucksack_Reorg.ipynb\" target=\"_parent\"><img src=\"https://colab.research.google.com/assets/colab-badge.svg\" alt=\"Open In Colab\"/></a>"
      ]
    },
    {
      "cell_type": "code",
      "source": [
        "def calculate_priority(item):\n",
        "    if 'a' <= item <= 'z':\n",
        "        return ord(item) - ord('a') + 1\n",
        "    elif 'A' <= item <= 'Z':\n",
        "        return ord(item) - ord('A') + 27\n",
        "    else:\n",
        "        return 0  # Not a valid item\n",
        "\n",
        "\n",
        "def find_common_item_type(contents):\n",
        "    half_length = len(contents) // 2\n",
        "    first_compart = set(contents[:half_length])\n",
        "    second_compart = set(contents[half_length:])\n",
        "    common_item = first_compart.intersection(second_compart)\n",
        "    return common_item\n",
        "\n",
        "\n",
        "def main():\n",
        "    with open(\"rucksack-input\", \"r\") as file:\n",
        "        lines = file.read().strip().split('\\n')\n",
        "\n",
        "    total_priority_part1 = 0\n",
        "    total_priority_part2 = 0\n",
        "\n",
        "    for i in range(0, len(lines), 3):\n",
        "        group_lines = lines[i:i + 3]\n",
        "        min_length = min(len(group_lines[0]), len(group_lines[1]), len(group_lines[2]))\n",
        "        group_contents = ''.join([group_lines[j][:min_length] for j in range(3)])  # Use minimum length\n",
        "        common_item = find_common_item_type(group_contents)\n",
        "\n",
        "        if common_item:\n",
        "            group_priority_part1 = calculate_priority(common_item.pop())\n",
        "            total_priority_part1 += group_priority_part1\n",
        "\n",
        "        badge_item = None\n",
        "        for j in range(min_length):\n",
        "            items = [group_lines[0][j], group_lines[1][j], group_lines[2][j]]\n",
        "            if items.count(items[0]) == 3:\n",
        "                badge_item = items[0]\n",
        "                break\n",
        "\n",
        "        if badge_item:\n",
        "            group_priority_part2 = calculate_priority(badge_item)\n",
        "            total_priority_part2 += group_priority_part2\n",
        "\n",
        "    print(\"1 :\", total_priority_part1)\n",
        "    print(\"2 :\", total_priority_part2)\n",
        "\n",
        "\n",
        "if __name__ == \"__main__\":\n",
        "    main()\n"
      ],
      "metadata": {
        "colab": {
          "base_uri": "https://localhost:8080/"
        },
        "id": "8mXh_r5Sx-U7",
        "outputId": "cd542f19-0574-48dd-b844-14a1edae33db"
      },
      "execution_count": 32,
      "outputs": [
        {
          "output_type": "stream",
          "name": "stdout",
          "text": [
            "1 : 3152\n",
            "2 : 0\n"
          ]
        }
      ]
    }
  ]
}