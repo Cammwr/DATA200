{
  "nbformat": 4,
  "nbformat_minor": 0,
  "metadata": {
    "colab": {
      "provenance": [],
      "authorship_tag": "ABX9TyPT8bgHedNqcb2oyEN88KWg",
      "include_colab_link": true
    },
    "kernelspec": {
      "name": "python3",
      "display_name": "Python 3"
    },
    "language_info": {
      "name": "python"
    }
  },
  "cells": [
    {
      "cell_type": "markdown",
      "metadata": {
        "id": "view-in-github",
        "colab_type": "text"
      },
      "source": [
        "<a href=\"https://colab.research.google.com/github/Cammwr/DATA200/blob/main/Santa.ipynb\" target=\"_parent\"><img src=\"https://colab.research.google.com/assets/colab-badge.svg\" alt=\"Open In Colab\"/></a>"
      ]
    },
    {
      "cell_type": "code",
      "execution_count": null,
      "metadata": {
        "colab": {
          "base_uri": "https://localhost:8080/"
        },
        "id": "mHFdyPz6mzv3",
        "outputId": "d234dbbf-ffc2-4567-f2d5-1b456aec9f62"
      },
      "outputs": [
        {
          "output_type": "execute_result",
          "data": {
            "text/plain": [
              "['2494\\n', '8013\\n', '1055\\n']"
            ]
          },
          "metadata": {},
          "execution_count": 6
        }
      ],
      "source": [
        "with open('09-25_input-1', 'r') as f:\n",
        "  data = f.readlines()\n",
        "\n",
        "data[0:3]"
      ]
    },
    {
      "cell_type": "code",
      "source": [
        "from google.colab import drive\n",
        "drive.mount('/content/drive')"
      ],
      "metadata": {
        "colab": {
          "base_uri": "https://localhost:8080/"
        },
        "id": "HC1Y-EZSr6vo",
        "outputId": "56b384a4-f09c-48d5-9667-60a754905ce8"
      },
      "execution_count": null,
      "outputs": [
        {
          "output_type": "stream",
          "name": "stdout",
          "text": [
            "Mounted at /content/drive\n"
          ]
        }
      ]
    },
    {
      "cell_type": "code",
      "source": [
        "cleaned_data = []\n",
        "for line in data:\n",
        "  cleaned_data.append(line.strip())"
      ],
      "metadata": {
        "id": "Sxt9hYR3p-ag"
      },
      "execution_count": null,
      "outputs": []
    },
    {
      "cell_type": "code",
      "source": [
        "cleaned_data[0:10]"
      ],
      "metadata": {
        "colab": {
          "base_uri": "https://localhost:8080/"
        },
        "id": "wkRxv3CGp_dV",
        "outputId": "d188f76d-7e9d-4f0f-fe63-269708994dac"
      },
      "execution_count": null,
      "outputs": [
        {
          "output_type": "execute_result",
          "data": {
            "text/plain": [
              "['2494',\n",
              " '8013',\n",
              " '1055',\n",
              " '5425',\n",
              " '9104',\n",
              " '10665',\n",
              " '',\n",
              " '10642',\n",
              " '10677',\n",
              " '10300']"
            ]
          },
          "metadata": {},
          "execution_count": 10
        }
      ]
    },
    {
      "cell_type": "code",
      "source": [
        "elves = []\n",
        "_sum_calories = 0\n",
        "\n",
        "for line in cleaned_data:\n",
        "  if line:\n",
        "    _sum_calories += int(line)\n",
        "  else:\n",
        "    elves.append(_sum_calories)\n",
        "    _sum_calories = 0\n",
        "print(elves)"
      ],
      "metadata": {
        "colab": {
          "base_uri": "https://localhost:8080/"
        },
        "id": "x4GNoYXOp_aa",
        "outputId": "3d758f1d-0ad1-4b7f-d455-ab9e9633fe05"
      },
      "execution_count": null,
      "outputs": [
        {
          "output_type": "stream",
          "name": "stdout",
          "text": [
            "[36756, 70369, 46030, 55237, 49273, 61698, 41206, 44233, 56367, 44201, 32018, 37387, 41580, 49624, 48434, 30560, 39161, 46173, 56296, 35211, 50095, 58537, 54079, 35714, 54957, 64459, 57532, 56955, 26072, 37307, 49957, 45779, 50534, 43442, 47706, 53989, 52887, 58969, 59087, 53679, 53645, 9540, 41950, 42664, 59093, 54610, 54749, 57642, 44193, 51811, 57725, 47429, 54352, 47737, 39467, 34327, 44016, 55608, 39769, 54433, 50521, 60294, 49474, 51910, 55010, 49749, 64686, 43246, 43378, 56414, 46049, 52418, 41732, 45909, 36035, 53914, 65111, 49390, 49914, 54498, 51125, 37200, 45668, 36719, 52320, 56373, 13407, 44311, 49278, 59431, 55085, 49991, 42085, 33548, 34867, 43144, 43030, 48300, 56688, 44648, 46987, 56208, 44338, 28794, 47019, 49643, 48918, 45067, 57140, 60109, 38468, 35926, 54367, 45567, 55804, 47463, 54446, 45483, 54775, 66781, 48708, 37863, 54902, 51134, 53017, 43866, 53365, 29457, 10232, 11444, 30021, 37823, 32065, 22486, 34465, 44705, 47623, 35133, 50346, 34619, 50999, 29520, 14867, 54722, 48751, 51088, 50752, 36937, 41793, 28400, 48675, 19117, 37085, 24289, 48077, 40675, 56968, 31349, 42010, 64668, 55060, 54405, 52381, 30134, 33277, 31331, 56841, 38309, 56678, 22211, 52463, 43073, 51145, 52647, 42215, 48072, 40611, 54583, 34582, 63346, 36433, 51362, 46406, 48507, 31845, 65852, 45509, 46043, 48902, 35615, 36401, 48623, 45596, 54097, 47021, 53146, 63968, 58945, 52453, 37830, 59274, 43588, 40046, 49510, 48073, 58310, 63025, 65667, 37526, 55951, 58287, 53790, 47555, 47858, 24592, 48764, 48597, 52023, 30857, 53671, 42521, 28482, 59362, 52942, 58263, 39258, 57464, 53996, 52347, 38088, 40681, 53550, 41747, 46098, 40301, 30761, 42594, 53121, 26024, 42683, 61354, 59555, 50656, 30207, 40949, 12161, 23106, 40339, 65062]\n"
          ]
        }
      ]
    },
    {
      "cell_type": "code",
      "source": [
        "print(max(elves))"
      ],
      "metadata": {
        "colab": {
          "base_uri": "https://localhost:8080/"
        },
        "id": "s1MvwvxXq31J",
        "outputId": "adbd32fa-8341-42ca-c9b7-6347be800095"
      },
      "execution_count": null,
      "outputs": [
        {
          "output_type": "stream",
          "name": "stdout",
          "text": [
            "70369\n"
          ]
        }
      ]
    },
    {
      "cell_type": "code",
      "source": [
        "elves.sort(reverse=True)"
      ],
      "metadata": {
        "id": "0fdw20VWq8Ki"
      },
      "execution_count": null,
      "outputs": []
    },
    {
      "cell_type": "code",
      "source": [
        "print(sum(elves[0:3]))"
      ],
      "metadata": {
        "colab": {
          "base_uri": "https://localhost:8080/"
        },
        "id": "DP8qcQf_rC1g",
        "outputId": "f64369b3-6177-4cdb-d651-f31b9c3d7633"
      },
      "execution_count": null,
      "outputs": [
        {
          "output_type": "stream",
          "name": "stdout",
          "text": [
            "203002\n"
          ]
        }
      ]
    }
  ]
}